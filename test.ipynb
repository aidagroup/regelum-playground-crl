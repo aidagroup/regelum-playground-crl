{
 "cells": [
  {
   "cell_type": "code",
   "execution_count": 1,
   "metadata": {},
   "outputs": [],
   "source": [
    "import sys\n",
    "\n",
    "sys.path.insert(0,'/regelum-playground')\n",
    "\n",
    "import numpy as np\n",
    "\n",
    "from src.simulator_gz import Robot3Pi\n",
    "from src.system_exp import ThreeWheelPushingObject\n",
    "from src.environment import EnvironmentConfig, Task, TwistAction, PushingObject"
   ]
  },
  {
   "cell_type": "code",
   "execution_count": 2,
   "metadata": {},
   "outputs": [],
   "source": [
    "## Possible Tasks (With either 15 or -15 rotation as starting point)\n",
    "tasks = {}\n",
    "tasks['red'] = Task('red',[Task.Transform(position=[0.4,0.0,0.05],euler_rotation=[0.0,0.0,15.0]),Task.Transform(position=[0.4,0.0,0.05],euler_rotation=[0.0,0.0,-15.0])],mass=20)\n",
    "tasks['green'] = Task('green',[Task.Transform(position=[0.4,4.0,0.05],euler_rotation=[0.0,0.0,15.0]),Task.Transform(position=[0.4,4.0,0.05],euler_rotation=[0.0,0.0,-15.0])],mass=20)\n",
    "tasks['blue'] = Task('blue',[Task.Transform(position=[0.4,8.0,0.05],euler_rotation=[0.0,0.0,15.0]),Task.Transform(position=[0.4,8.0,0.05],euler_rotation=[0.0,0.0,-15.0])],mass=0)\n",
    "tasks['yellow'] = Task('yellow',[Task.Transform(position=[0.4,-4.0,0.05],euler_rotation=[0.0,0.0,15.0]),Task.Transform(position=[0.4,-4.0,0.05],euler_rotation=[0.0,0.0,-15.0])],mass=0)\n",
    "tasks['pink'] = Task('pink',[Task.Transform(position=[0.4,-8.0,0.05],euler_rotation=[0.0,0.0,15.0]),Task.Transform(position=[0.4,-8.0,0.05],euler_rotation=[0.0,0.0,-15.0])],mass=0)\n",
    "tasks['cyan'] = Task('cyan',[Task.Transform(position=[0.4,-12.0,0.05],euler_rotation=[0.0,0.0,15.0]),Task.Transform(position=[0.4,-12.0,0.05],euler_rotation=[0.0,0.0,-15.0])],mass=20)\n",
    "\n",
    "\n",
    "actions = []\n",
    "\n",
    "raw_action_space = 4.*np.array([[0.,0.],[0.5,0.1],[0.1,0.5],[0.3,0.3]]) ;\n",
    "\n",
    "for e in raw_action_space:\n",
    "    label = \"\" ;\n",
    "    if e[0]+e[1] < 0.0001: label = \"stop\" ;\n",
    "    elif e[0] == e[1]: label = \"straight\" ;\n",
    "    elif e[0] >= e[1]: label = \"right\" ;\n",
    "    elif e[0] <= e[1]: label = \"left\" ;\n",
    "    actions.append(TwistAction(label, e))"
   ]
  },
  {
   "cell_type": "code",
   "execution_count": 3,
   "metadata": {},
   "outputs": [],
   "source": [
    "system = ThreeWheelPushingObject()\n",
    "env_config = EnvironmentConfig(observation_shape=[20,20,3],\n",
    "                               tasks=tasks,\n",
    "                               actions=actions,\n",
    "                               robot_name='3pi_front_cam_robot',\n",
    "                               vehicle_prefix='/vehicle',\n",
    "                               world_name='/world/pushing_objects_world',\n",
    "                               camera_topic='/vehicle/camera')"
   ]
  },
  {
   "cell_type": "code",
   "execution_count": null,
   "metadata": {},
   "outputs": [],
   "source": [
    "sim_rob = Robot3Pi(system, \n",
    "                   state_init=np.zeros([20*20*3]),\n",
    "                   time_final=30)"
   ]
  },
  {
   "cell_type": "code",
   "execution_count": 5,
   "metadata": {},
   "outputs": [],
   "source": [
    "from src.objective import ThreeWheeledRobotCostWithSpot, PushingObjectRunningObjective\n",
    "from regelum.model import ModelQuadLin\n",
    "\n",
    "\n",
    "objective_function = ThreeWheeledRobotCostWithSpot(\n",
    "    quadratic_model=ModelQuadLin(\n",
    "        weights= [100, 100, 0, 0, 0],\n",
    "        quad_matrix_type=\"diagonal\",\n",
    "        is_with_linear_terms=False),\n",
    "        spot_gain=500,\n",
    "        spot_x_center=-1.5,\n",
    "        spot_y_center=-1.5,\n",
    "        spot_std=0.2,\n",
    "    )\n",
    "\n",
    "objective_function = PushingObjectRunningObjective()"
   ]
  },
  {
   "cell_type": "code",
   "execution_count": null,
   "metadata": {},
   "outputs": [
    {
     "name": "stdout",
     "output_type": "stream",
     "text": [
      "simulator: <src.simulator_gz.Robot3Pi object at 0x75829e51bfa0>\n",
      "subscribed to Camera!\n",
      "Subscribed to dynamic_pose/info!\n",
      "Waiting for simulator... 0.24 sec\n",
      "Scene received!\n",
      "Model in scene empty_plane\n",
      "Model in scene red\n",
      "Model in scene green\n",
      "Model in scene blue\n",
      "Model in scene yellow\n",
      "Model in scene pink\n",
      "Model in scene cyan\n",
      "Model in scene 3pi_front_cam_robot\n"
     ]
    }
   ],
   "source": [
    "po = PushingObject(sim_rob, \n",
    "                   running_objective=objective_function)"
   ]
  },
  {
   "cell_type": "code",
   "execution_count": 13,
   "metadata": {},
   "outputs": [],
   "source": [
    "po.switch_task(0)\n",
    "observation, _ = po.reset()"
   ]
  },
  {
   "cell_type": "code",
   "execution_count": 15,
   "metadata": {},
   "outputs": [
    {
     "name": "stdout",
     "output_type": "stream",
     "text": [
      "(20, 20, 3) VMINMAX H 0.0 0.0 S 0.0 0.617801 V 0.42352942 0.85490197 16\n",
      "COND: Normal\n",
      "self.system.inputs: [[1. 0.]]\n",
      "(20, 20, 3) VMINMAX H 0.0 0.0 S 0.0 0.617801 V 0.42352942 0.85490197 20\n",
      "COND: Normal\n",
      "self.system.inputs: [[1. 0.]]\n",
      "(20, 20, 3) VMINMAX H 0.0 0.0 S 0.0 0.617801 V 0.42352942 0.85490197 30\n",
      "COND: Normal\n",
      "self.system.inputs: [[1. 0.]]\n",
      "(20, 20, 3) VMINMAX H 0.0 0.0 S 0.0 0.617801 V 0.38039216 0.85490197 28\n",
      "COND: Normal\n",
      "self.system.inputs: [[1. 0.]]\n",
      "(20, 20, 3) VMINMAX H 0.0 0.0 S 0.0 0.6666667 V 0.3529412 0.85490197 25\n",
      "COND: Normal\n",
      "self.system.inputs: [[1. 0.]]\n",
      "(20, 20, 3) VMINMAX H 0.0 0.0 S 0.0 0.0 V 0.42352942 0.85490197 0\n",
      "COND: LOST\n",
      "self.system.inputs: [[1. 0.]]\n",
      "(20, 20, 3) VMINMAX H 0.0 0.0 S 0.0 0.0 V 0.42352942 0.85490197 0\n",
      "COND: LOST\n",
      "self.system.inputs: [[0. 0.]]\n"
     ]
    },
    {
     "data": {
      "text/html": [
       "<pre style=\"white-space:pre;overflow-x:auto;line-height:normal;font-family:Menlo,'DejaVu Sans Mono',consolas,'Courier New',monospace\">\n",
       "<span style=\"font-weight: bold\">(</span>\n",
       "    <span style=\"color: #800080; text-decoration-color: #800080; font-weight: bold\">array</span><span style=\"font-weight: bold\">([[</span><span style=\"color: #008080; text-decoration-color: #008080; font-weight: bold\">0.85490197</span>, <span style=\"color: #008080; text-decoration-color: #008080; font-weight: bold\">0.85490197</span>, <span style=\"color: #008080; text-decoration-color: #008080; font-weight: bold\">0.85490197</span>, <span style=\"color: #808000; text-decoration-color: #808000\">...</span>, <span style=\"color: #008080; text-decoration-color: #008080; font-weight: bold\">0.42352942</span>, <span style=\"color: #008080; text-decoration-color: #008080; font-weight: bold\">0.42352942</span>,\n",
       "        <span style=\"color: #008080; text-decoration-color: #008080; font-weight: bold\">0.42352942</span><span style=\"font-weight: bold\">]]</span>, <span style=\"color: #808000; text-decoration-color: #808000\">dtype</span>=<span style=\"color: #800080; text-decoration-color: #800080\">float32</span><span style=\"font-weight: bold\">)</span>,\n",
       "    <span style=\"color: #008080; text-decoration-color: #008080; font-weight: bold\">1.0</span>,\n",
       "    <span style=\"color: #00ff00; text-decoration-color: #00ff00; font-style: italic\">True</span>,\n",
       "    <span style=\"color: #ff0000; text-decoration-color: #ff0000; font-style: italic\">False</span>,\n",
       "    <span style=\"font-weight: bold\">{}</span>\n",
       "<span style=\"font-weight: bold\">)</span>\n",
       "</pre>\n"
      ],
      "text/plain": [
       "\n",
       "\u001b[1m(\u001b[0m\n",
       "    \u001b[1;35marray\u001b[0m\u001b[1m(\u001b[0m\u001b[1m[\u001b[0m\u001b[1m[\u001b[0m\u001b[1;36m0.85490197\u001b[0m, \u001b[1;36m0.85490197\u001b[0m, \u001b[1;36m0.85490197\u001b[0m, \u001b[33m...\u001b[0m, \u001b[1;36m0.42352942\u001b[0m, \u001b[1;36m0.42352942\u001b[0m,\n",
       "        \u001b[1;36m0.42352942\u001b[0m\u001b[1m]\u001b[0m\u001b[1m]\u001b[0m, \u001b[33mdtype\u001b[0m=\u001b[35mfloat32\u001b[0m\u001b[1m)\u001b[0m,\n",
       "    \u001b[1;36m1.0\u001b[0m,\n",
       "    \u001b[3;92mTrue\u001b[0m,\n",
       "    \u001b[3;91mFalse\u001b[0m,\n",
       "    \u001b[1m{\u001b[0m\u001b[1m}\u001b[0m\n",
       "\u001b[1m)\u001b[0m\n"
      ]
     },
     "metadata": {},
     "output_type": "display_data"
    }
   ],
   "source": [
    "import time\n",
    "\n",
    "observation, _ = po.reset()\n",
    "\n",
    "for _ in range(10):\n",
    "    observation, reward, truncated, terminated, info = po.step(np.array([1, 0]))\n",
    "    if np.logical_or(truncated, terminated):\n",
    "        break\n",
    "    \n",
    "    time.sleep(0.2) \n",
    "\n",
    "po.step(np.array([0, 0]))"
   ]
  }
 ],
 "metadata": {
  "kernelspec": {
   "display_name": "Python 3",
   "language": "python",
   "name": "python3"
  },
  "language_info": {
   "codemirror_mode": {
    "name": "ipython",
    "version": 3
   },
   "file_extension": ".py",
   "mimetype": "text/x-python",
   "name": "python",
   "nbconvert_exporter": "python",
   "pygments_lexer": "ipython3",
   "version": "3.10.12"
  }
 },
 "nbformat": 4,
 "nbformat_minor": 2
}
