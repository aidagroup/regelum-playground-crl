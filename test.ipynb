{
 "cells": [
  {
   "cell_type": "code",
   "execution_count": 1,
   "metadata": {},
   "outputs": [],
   "source": [
    "import sys\n",
    "\n",
    "sys.path.insert(0,'/regelum-playground')\n",
    "\n",
    "import numpy as np\n",
    "\n",
    "from src.simulator_gz import Robot3Pi\n",
    "from src.system_exp import ThreeWheelPushingObject\n",
    "from src.environment import EnvironmentConfig, Task, TwistAction, PushingObject, RobotPursuit\n",
    "\n",
    "from src.simulator_gz import Robot3PiLineFollowing\n",
    "from src.system_exp import ThreeWheelLineFollowing\n",
    "from src.environment import LineFollowing\n",
    "\n",
    "from src.simulator_gz import Robot3PiRobotPursuit\n",
    "from src.system_exp import ThreeWheelPushingObject\n",
    "from src.environment import RobotPursuit"
   ]
  },
  {
   "cell_type": "markdown",
   "metadata": {},
   "source": [
    "# Pushing Objects"
   ]
  },
  {
   "cell_type": "code",
   "execution_count": 2,
   "metadata": {},
   "outputs": [],
   "source": [
    "## Possible Tasks (With either 15 or -15 rotation as starting point)\n",
    "tasks = {}\n",
    "tasks['red'] = Task('red',[Task.Transform(position=[0.4,0.0,0.05],euler_rotation=[0.0,0.0,15.0]),Task.Transform(position=[0.4,0.0,0.05],euler_rotation=[0.0,0.0,-15.0])],mass=20)\n",
    "tasks['green'] = Task('green',[Task.Transform(position=[0.4,4.0,0.05],euler_rotation=[0.0,0.0,15.0]),Task.Transform(position=[0.4,4.0,0.05],euler_rotation=[0.0,0.0,-15.0])],mass=20)\n",
    "tasks['blue'] = Task('blue',[Task.Transform(position=[0.4,8.0,0.05],euler_rotation=[0.0,0.0,15.0]),Task.Transform(position=[0.4,8.0,0.05],euler_rotation=[0.0,0.0,-15.0])],mass=0)\n",
    "tasks['yellow'] = Task('yellow',[Task.Transform(position=[0.4,-4.0,0.05],euler_rotation=[0.0,0.0,15.0]),Task.Transform(position=[0.4,-4.0,0.05],euler_rotation=[0.0,0.0,-15.0])],mass=0)\n",
    "tasks['pink'] = Task('pink',[Task.Transform(position=[0.4,-8.0,0.05],euler_rotation=[0.0,0.0,15.0]),Task.Transform(position=[0.4,-8.0,0.05],euler_rotation=[0.0,0.0,-15.0])],mass=0)\n",
    "tasks['cyan'] = Task('cyan',[Task.Transform(position=[0.4,-12.0,0.05],euler_rotation=[0.0,0.0,15.0]),Task.Transform(position=[0.4,-12.0,0.05],euler_rotation=[0.0,0.0,-15.0])],mass=20)\n",
    "\n",
    "\n",
    "actions = []\n",
    "\n",
    "raw_action_space = 4.*np.array([[0.,0.],[0.5,0.1],[0.1,0.5],[0.3,0.3]]) ;\n",
    "\n",
    "for e in raw_action_space:\n",
    "    label = \"\" ;\n",
    "    if e[0]+e[1] < 0.0001: label = \"stop\" ;\n",
    "    elif e[0] == e[1]: label = \"straight\" ;\n",
    "    elif e[0] >= e[1]: label = \"right\" ;\n",
    "    elif e[0] <= e[1]: label = \"left\" ;\n",
    "    actions.append(TwistAction(label, e))"
   ]
  },
  {
   "cell_type": "code",
   "execution_count": 3,
   "metadata": {},
   "outputs": [],
   "source": [
    "system = ThreeWheelPushingObject()\n",
    "env_config = EnvironmentConfig(observation_shape=[20,20,3],\n",
    "                               tasks=tasks,\n",
    "                               actions=actions,\n",
    "                               robot_name='3pi_front_cam_robot',\n",
    "                               vehicle_prefix='/vehicle',\n",
    "                               world_name='/world/pushing_objects_world',\n",
    "                               camera_topic='/vehicle/camera')"
   ]
  },
  {
   "cell_type": "code",
   "execution_count": 4,
   "metadata": {},
   "outputs": [],
   "source": [
    "sim_rob = Robot3Pi(system, \n",
    "                   state_init=np.zeros([20*20*3]),\n",
    "                   time_final=30)"
   ]
  },
  {
   "cell_type": "code",
   "execution_count": 5,
   "metadata": {},
   "outputs": [],
   "source": [
    "from src.objective import ThreeWheeledRobotCostWithSpot, PushingObjectRunningObjective\n",
    "from regelum.model import ModelQuadLin\n",
    "\n",
    "\n",
    "objective_function = ThreeWheeledRobotCostWithSpot(\n",
    "    quadratic_model=ModelQuadLin(\n",
    "        weights= [100, 100, 0, 0, 0],\n",
    "        quad_matrix_type=\"diagonal\",\n",
    "        is_with_linear_terms=False),\n",
    "        spot_gain=500,\n",
    "        spot_x_center=-1.5,\n",
    "        spot_y_center=-1.5,\n",
    "        spot_std=0.2,\n",
    "    )\n",
    "\n",
    "objective_function = PushingObjectRunningObjective()"
   ]
  },
  {
   "cell_type": "code",
   "execution_count": 6,
   "metadata": {},
   "outputs": [
    {
     "name": "stdout",
     "output_type": "stream",
     "text": [
      "simulator: <src.simulator_gz.Robot3Pi object at 0x71980c181ab0>\n",
      "subscribed to Camera!\n",
      "Subscribed to dynamic_pose/info!\n",
      "Waiting for simulator... 2.82 sec"
     ]
    },
    {
     "ename": "KeyboardInterrupt",
     "evalue": "",
     "output_type": "error",
     "traceback": [
      "\u001b[0;31m---------------------------------------------------------------------------\u001b[0m",
      "\u001b[0;31mKeyboardInterrupt\u001b[0m                         Traceback (most recent call last)",
      "Cell \u001b[0;32mIn[6], line 1\u001b[0m\n\u001b[0;32m----> 1\u001b[0m po \u001b[38;5;241m=\u001b[39m \u001b[43mPushingObject\u001b[49m\u001b[43m(\u001b[49m\u001b[43msim_rob\u001b[49m\u001b[43m,\u001b[49m\u001b[43m \u001b[49m\n\u001b[1;32m      2\u001b[0m \u001b[43m                   \u001b[49m\u001b[43mrunning_objective\u001b[49m\u001b[38;5;241;43m=\u001b[39;49m\u001b[43mobjective_function\u001b[49m\u001b[43m)\u001b[49m\n",
      "File \u001b[0;32m/regelum-playground/src/environment.py:374\u001b[0m, in \u001b[0;36mPushingObject.__init__\u001b[0;34m(self, simulator, running_objective, action_space, observation_space, task_list)\u001b[0m\n\u001b[1;32m    372\u001b[0m \u001b[38;5;28mself\u001b[39m\u001b[38;5;241m.\u001b[39mtasks \u001b[38;5;241m=\u001b[39m tasks\n\u001b[1;32m    373\u001b[0m \u001b[38;5;28mself\u001b[39m\u001b[38;5;241m.\u001b[39minfo \u001b[38;5;241m=\u001b[39m \u001b[38;5;28mdict\u001b[39m()\n\u001b[0;32m--> 374\u001b[0m \u001b[43msimulator\u001b[49m\u001b[38;5;241;43m.\u001b[39;49m\u001b[43mset_manager\u001b[49m\u001b[43m(\u001b[49m\u001b[43menv_config\u001b[49m\u001b[43m)\u001b[49m\n\u001b[1;32m    375\u001b[0m time\u001b[38;5;241m.\u001b[39msleep(\u001b[38;5;241m0.01\u001b[39m)\n",
      "File \u001b[0;32m/regelum-playground/src/simulator_gz.py:40\u001b[0m, in \u001b[0;36mRobot3Pi.set_manager\u001b[0;34m(self, env_config)\u001b[0m\n\u001b[1;32m     39\u001b[0m \u001b[38;5;28;01mdef\u001b[39;00m \u001b[38;5;21mset_manager\u001b[39m(\u001b[38;5;28mself\u001b[39m, env_config:EnvironmentConfig):\n\u001b[0;32m---> 40\u001b[0m     \u001b[38;5;28mself\u001b[39m\u001b[38;5;241m.\u001b[39mmanager \u001b[38;5;241m=\u001b[39m \u001b[43mEnvironmentManager\u001b[49m\u001b[43m(\u001b[49m\u001b[43menv_config\u001b[49m\u001b[43m)\u001b[49m\n",
      "File \u001b[0;32m/regelum-playground/src/environment.py:128\u001b[0m, in \u001b[0;36mEnvironmentManager.__init__\u001b[0;34m(self, env_config)\u001b[0m\n\u001b[1;32m    124\u001b[0m     \u001b[38;5;28mprint\u001b[39m(\u001b[38;5;124m\"\u001b[39m\u001b[38;5;124mSubscribed to dynamic_pose/info!\u001b[39m\u001b[38;5;124m\"\u001b[39m)\n\u001b[1;32m    126\u001b[0m \u001b[38;5;28mself\u001b[39m\u001b[38;5;241m.\u001b[39mgz_action \u001b[38;5;241m=\u001b[39m \u001b[38;5;28mself\u001b[39m\u001b[38;5;241m.\u001b[39madvertise(\u001b[38;5;124mf\u001b[39m\u001b[38;5;124m'\u001b[39m\u001b[38;5;132;01m{\u001b[39;00m\u001b[38;5;28mself\u001b[39m\u001b[38;5;241m.\u001b[39mvehicle_prefix\u001b[38;5;132;01m}\u001b[39;00m\u001b[38;5;124m/motor\u001b[39m\u001b[38;5;124m'\u001b[39m,Twist)\n\u001b[0;32m--> 128\u001b[0m \u001b[38;5;28;43mself\u001b[39;49m\u001b[38;5;241;43m.\u001b[39;49m\u001b[43mwait_for_simulation\u001b[49m\u001b[43m(\u001b[49m\u001b[43m)\u001b[49m\n\u001b[1;32m    130\u001b[0m \u001b[38;5;28mself\u001b[39m\u001b[38;5;241m.\u001b[39mworld_control_service \u001b[38;5;241m=\u001b[39m \u001b[38;5;124mf\u001b[39m\u001b[38;5;124m'\u001b[39m\u001b[38;5;132;01m{\u001b[39;00m\u001b[38;5;28mself\u001b[39m\u001b[38;5;241m.\u001b[39mworld_name\u001b[38;5;132;01m}\u001b[39;00m\u001b[38;5;124m/control\u001b[39m\u001b[38;5;124m'\u001b[39m\n\u001b[1;32m    131\u001b[0m \u001b[38;5;28mself\u001b[39m\u001b[38;5;241m.\u001b[39mres_req \u001b[38;5;241m=\u001b[39m WorldControl()\n",
      "File \u001b[0;32m/regelum-playground/src/environment.py:140\u001b[0m, in \u001b[0;36mEnvironmentManager.wait_for_simulation\u001b[0;34m(self)\u001b[0m\n\u001b[1;32m    139\u001b[0m \u001b[38;5;28;01mdef\u001b[39;00m \u001b[38;5;21mwait_for_simulation\u001b[39m(\u001b[38;5;28mself\u001b[39m):\n\u001b[0;32m--> 140\u001b[0m     response \u001b[38;5;241m=\u001b[39m \u001b[38;5;28;43mself\u001b[39;49m\u001b[38;5;241;43m.\u001b[39;49m\u001b[43mrequest_scene\u001b[49m\u001b[43m(\u001b[49m\u001b[43m)\u001b[49m\n\u001b[1;32m    141\u001b[0m     \u001b[38;5;28;01mfor\u001b[39;00m m \u001b[38;5;129;01min\u001b[39;00m response\u001b[38;5;241m.\u001b[39mmodel:\n\u001b[1;32m    142\u001b[0m       \u001b[38;5;28mprint\u001b[39m(\u001b[38;5;124m\"\u001b[39m\u001b[38;5;124mModel in scene\u001b[39m\u001b[38;5;124m\"\u001b[39m, m\u001b[38;5;241m.\u001b[39mname) ;\n",
      "File \u001b[0;32m/regelum-playground/src/environment.py:155\u001b[0m, in \u001b[0;36mEnvironmentManager.request_scene\u001b[0;34m(self)\u001b[0m\n\u001b[1;32m    153\u001b[0m     result, response \u001b[38;5;241m=\u001b[39m \u001b[38;5;28mself\u001b[39m\u001b[38;5;241m.\u001b[39mrequest(\u001b[38;5;124mf\u001b[39m\u001b[38;5;124m'\u001b[39m\u001b[38;5;132;01m{\u001b[39;00m\u001b[38;5;28mself\u001b[39m\u001b[38;5;241m.\u001b[39mworld_name\u001b[38;5;132;01m}\u001b[39;00m\u001b[38;5;124m/scene/info\u001b[39m\u001b[38;5;124m'\u001b[39m, Empty(), Empty, Scene, \u001b[38;5;241m1\u001b[39m)\n\u001b[1;32m    154\u001b[0m     \u001b[38;5;28mprint\u001b[39m(\u001b[38;5;124mf\u001b[39m\u001b[38;5;124m'\u001b[39m\u001b[38;5;130;01m\\r\u001b[39;00m\u001b[38;5;124mWaiting for simulator... \u001b[39m\u001b[38;5;132;01m{\u001b[39;00m(time\u001b[38;5;241m.\u001b[39mperf_counter()\u001b[38;5;250m \u001b[39m\u001b[38;5;241m-\u001b[39m\u001b[38;5;250m \u001b[39mstart_time)\u001b[38;5;132;01m:\u001b[39;00m\u001b[38;5;124m.2f\u001b[39m\u001b[38;5;132;01m}\u001b[39;00m\u001b[38;5;124m sec\u001b[39m\u001b[38;5;124m'\u001b[39m, end\u001b[38;5;241m=\u001b[39m\u001b[38;5;124m'\u001b[39m\u001b[38;5;124m'\u001b[39m)\n\u001b[0;32m--> 155\u001b[0m     \u001b[43mtime\u001b[49m\u001b[38;5;241;43m.\u001b[39;49m\u001b[43msleep\u001b[49m\u001b[43m(\u001b[49m\u001b[38;5;241;43m0.005\u001b[39;49m\u001b[43m)\u001b[49m\n\u001b[1;32m    156\u001b[0m \u001b[38;5;28mprint\u001b[39m(\u001b[38;5;124m'\u001b[39m\u001b[38;5;130;01m\\n\u001b[39;00m\u001b[38;5;124mScene received!\u001b[39m\u001b[38;5;124m'\u001b[39m)\n\u001b[1;32m    157\u001b[0m \u001b[38;5;28;01mreturn\u001b[39;00m response\n",
      "\u001b[0;31mKeyboardInterrupt\u001b[0m: "
     ]
    }
   ],
   "source": [
    "po = PushingObject(sim_rob, \n",
    "                   running_objective=objective_function)"
   ]
  },
  {
   "cell_type": "code",
   "execution_count": null,
   "metadata": {},
   "outputs": [],
   "source": [
    "po.switch_task(0)\n",
    "observation, _ = po.reset()"
   ]
  },
  {
   "cell_type": "code",
   "execution_count": null,
   "metadata": {},
   "outputs": [
    {
     "name": "stdout",
     "output_type": "stream",
     "text": [
      "(20, 20, 3) VMINMAX H 0.0 0.0 S 0.0 0.617801 V 0.42352942 0.85490197 16\n",
      "COND: Normal\n",
      "self.system.inputs: [[1. 0.]]\n",
      "(20, 20, 3) VMINMAX H 0.0 0.0 S 0.0 0.617801 V 0.42352942 0.85490197 20\n",
      "COND: Normal\n",
      "self.system.inputs: [[1. 0.]]\n",
      "(20, 20, 3) VMINMAX H 0.0 0.0 S 0.0 0.617801 V 0.42352942 0.85490197 30\n",
      "COND: Normal\n",
      "self.system.inputs: [[1. 0.]]\n",
      "(20, 20, 3) VMINMAX H 0.0 0.0 S 0.0 0.617801 V 0.38039216 0.85490197 28\n",
      "COND: Normal\n",
      "self.system.inputs: [[1. 0.]]\n",
      "(20, 20, 3) VMINMAX H 0.0 0.0 S 0.0 0.6666667 V 0.3529412 0.85490197 25\n",
      "COND: Normal\n",
      "self.system.inputs: [[1. 0.]]\n",
      "(20, 20, 3) VMINMAX H 0.0 0.0 S 0.0 0.0 V 0.42352942 0.85490197 0\n",
      "COND: LOST\n",
      "self.system.inputs: [[1. 0.]]\n",
      "(20, 20, 3) VMINMAX H 0.0 0.0 S 0.0 0.0 V 0.42352942 0.85490197 0\n",
      "COND: LOST\n",
      "self.system.inputs: [[0. 0.]]\n"
     ]
    },
    {
     "data": {
      "text/html": [
       "<pre style=\"white-space:pre;overflow-x:auto;line-height:normal;font-family:Menlo,'DejaVu Sans Mono',consolas,'Courier New',monospace\">\n",
       "<span style=\"font-weight: bold\">(</span>\n",
       "    <span style=\"color: #800080; text-decoration-color: #800080; font-weight: bold\">array</span><span style=\"font-weight: bold\">([[</span><span style=\"color: #008080; text-decoration-color: #008080; font-weight: bold\">0.85490197</span>, <span style=\"color: #008080; text-decoration-color: #008080; font-weight: bold\">0.85490197</span>, <span style=\"color: #008080; text-decoration-color: #008080; font-weight: bold\">0.85490197</span>, <span style=\"color: #808000; text-decoration-color: #808000\">...</span>, <span style=\"color: #008080; text-decoration-color: #008080; font-weight: bold\">0.42352942</span>, <span style=\"color: #008080; text-decoration-color: #008080; font-weight: bold\">0.42352942</span>,\n",
       "        <span style=\"color: #008080; text-decoration-color: #008080; font-weight: bold\">0.42352942</span><span style=\"font-weight: bold\">]]</span>, <span style=\"color: #808000; text-decoration-color: #808000\">dtype</span>=<span style=\"color: #800080; text-decoration-color: #800080\">float32</span><span style=\"font-weight: bold\">)</span>,\n",
       "    <span style=\"color: #008080; text-decoration-color: #008080; font-weight: bold\">1.0</span>,\n",
       "    <span style=\"color: #00ff00; text-decoration-color: #00ff00; font-style: italic\">True</span>,\n",
       "    <span style=\"color: #ff0000; text-decoration-color: #ff0000; font-style: italic\">False</span>,\n",
       "    <span style=\"font-weight: bold\">{}</span>\n",
       "<span style=\"font-weight: bold\">)</span>\n",
       "</pre>\n"
      ],
      "text/plain": [
       "\n",
       "\u001b[1m(\u001b[0m\n",
       "    \u001b[1;35marray\u001b[0m\u001b[1m(\u001b[0m\u001b[1m[\u001b[0m\u001b[1m[\u001b[0m\u001b[1;36m0.85490197\u001b[0m, \u001b[1;36m0.85490197\u001b[0m, \u001b[1;36m0.85490197\u001b[0m, \u001b[33m...\u001b[0m, \u001b[1;36m0.42352942\u001b[0m, \u001b[1;36m0.42352942\u001b[0m,\n",
       "        \u001b[1;36m0.42352942\u001b[0m\u001b[1m]\u001b[0m\u001b[1m]\u001b[0m, \u001b[33mdtype\u001b[0m=\u001b[35mfloat32\u001b[0m\u001b[1m)\u001b[0m,\n",
       "    \u001b[1;36m1.0\u001b[0m,\n",
       "    \u001b[3;92mTrue\u001b[0m,\n",
       "    \u001b[3;91mFalse\u001b[0m,\n",
       "    \u001b[1m{\u001b[0m\u001b[1m}\u001b[0m\n",
       "\u001b[1m)\u001b[0m\n"
      ]
     },
     "metadata": {},
     "output_type": "display_data"
    }
   ],
   "source": [
    "import time\n",
    "\n",
    "observation, _ = po.reset()\n",
    "\n",
    "for _ in range(10):\n",
    "    observation, reward, truncated, terminated, info = po.step(np.array([1, 0]))\n",
    "    if np.logical_or(truncated, terminated):\n",
    "        break\n",
    "    \n",
    "    time.sleep(0.2) \n",
    "\n",
    "po.step(np.array([0, 0]))"
   ]
  },
  {
   "cell_type": "markdown",
   "metadata": {},
   "source": [
    "# Line Following"
   ]
  },
  {
   "cell_type": "code",
   "execution_count": null,
   "metadata": {},
   "outputs": [],
   "source": [
    "system = ThreeWheelLineFollowing()\n",
    "sim_rob = Robot3PiLineFollowing(system, \n",
    "                                state_init=np.zeros([2*50*3]),\n",
    "                                time_final=30)"
   ]
  },
  {
   "cell_type": "code",
   "execution_count": null,
   "metadata": {},
   "outputs": [
    {
     "name": "stdout",
     "output_type": "stream",
     "text": [
      "simulator: <src.simulator_gz.Robot3PiLineFollowing object at 0x7bbd3ee57940>\n",
      "subscribed to Camera!\n",
      "Subscribed to dynamic_pose/info!\n",
      "Waiting for simulator... 0.22 sec\n",
      "Scene received!\n",
      "Model in scene colored_ground_plane\n",
      "Model in scene 3pi_robot\n",
      "Model in scene top_camera\n",
      "\n",
      "Observation and position received!\n"
     ]
    }
   ],
   "source": [
    "from src.objective import LineFollowingRunningObjective\n",
    "\n",
    "\n",
    "objective_function = LineFollowingRunningObjective()\n",
    "lf = LineFollowing(sim_rob, \n",
    "                   running_objective=objective_function)"
   ]
  },
  {
   "cell_type": "code",
   "execution_count": null,
   "metadata": {},
   "outputs": [],
   "source": [
    "lf.switch_task(0)\n",
    "observation, _ = lf.reset()"
   ]
  },
  {
   "cell_type": "code",
   "execution_count": null,
   "metadata": {},
   "outputs": [
    {
     "name": "stdout",
     "output_type": "stream",
     "text": [
      "truncated: False, terminated: False\n",
      "Counter overflow with t0: 3.565 and last moment: 3.697\n",
      "truncated: False, terminated: False\n",
      "truncated: False, terminated: False\n",
      "Counter overflow with t0: 3.862 and last moment: 3.9939999999999998\n",
      "truncated: False, terminated: False\n",
      "Counter overflow with t0: 4.027 and last moment: 4.159\n",
      "truncated: False, terminated: False\n",
      "Counter overflow with t0: 4.192 and last moment: 4.324\n",
      "truncated: False, terminated: False\n",
      "truncated: False, terminated: False\n",
      "Counter overflow with t0: 4.489 and last moment: 4.621\n",
      "truncated: False, terminated: False\n",
      "Counter overflow with t0: 4.654 and last moment: 4.786\n",
      "truncated: False, terminated: True\n"
     ]
    },
    {
     "data": {
      "text/html": [
       "<pre style=\"white-space:pre;overflow-x:auto;line-height:normal;font-family:Menlo,'DejaVu Sans Mono',consolas,'Courier New',monospace\">\n",
       "<span style=\"font-weight: bold\">(</span>\n",
       "    <span style=\"color: #800080; text-decoration-color: #800080; font-weight: bold\">array</span><span style=\"font-weight: bold\">([</span><span style=\"color: #008080; text-decoration-color: #008080; font-weight: bold\">0.4509804</span> , <span style=\"color: #008080; text-decoration-color: #008080; font-weight: bold\">0</span>.        , <span style=\"color: #008080; text-decoration-color: #008080; font-weight: bold\">0</span>.        , <span style=\"color: #008080; text-decoration-color: #008080; font-weight: bold\">0.4509804</span> , <span style=\"color: #008080; text-decoration-color: #008080; font-weight: bold\">0</span>.        ,\n",
       "       <span style=\"color: #008080; text-decoration-color: #008080; font-weight: bold\">0</span>.        , <span style=\"color: #008080; text-decoration-color: #008080; font-weight: bold\">0.45490196</span>, <span style=\"color: #008080; text-decoration-color: #008080; font-weight: bold\">0</span>.        , <span style=\"color: #008080; text-decoration-color: #008080; font-weight: bold\">0</span>.        , <span style=\"color: #008080; text-decoration-color: #008080; font-weight: bold\">0.45490196</span>,\n",
       "       <span style=\"color: #008080; text-decoration-color: #008080; font-weight: bold\">0</span>.        , <span style=\"color: #008080; text-decoration-color: #008080; font-weight: bold\">0</span>.        , <span style=\"color: #008080; text-decoration-color: #008080; font-weight: bold\">0.42745098</span>, <span style=\"color: #008080; text-decoration-color: #008080; font-weight: bold\">0</span>.        , <span style=\"color: #008080; text-decoration-color: #008080; font-weight: bold\">0</span>.        ,\n",
       "       <span style=\"color: #008080; text-decoration-color: #008080; font-weight: bold\">0.3647059</span> , <span style=\"color: #008080; text-decoration-color: #008080; font-weight: bold\">0</span>.        , <span style=\"color: #008080; text-decoration-color: #008080; font-weight: bold\">0</span>.        , <span style=\"color: #008080; text-decoration-color: #008080; font-weight: bold\">0.2</span>       , <span style=\"color: #008080; text-decoration-color: #008080; font-weight: bold\">0</span>.        ,\n",
       "       <span style=\"color: #008080; text-decoration-color: #008080; font-weight: bold\">0</span>.        , <span style=\"color: #008080; text-decoration-color: #008080; font-weight: bold\">0</span>.        , <span style=\"color: #008080; text-decoration-color: #008080; font-weight: bold\">0</span>.        , <span style=\"color: #008080; text-decoration-color: #008080; font-weight: bold\">0</span>.        , <span style=\"color: #008080; text-decoration-color: #008080; font-weight: bold\">0</span>.        ,\n",
       "       <span style=\"color: #008080; text-decoration-color: #008080; font-weight: bold\">0</span>.        , <span style=\"color: #008080; text-decoration-color: #008080; font-weight: bold\">0</span>.        , <span style=\"color: #008080; text-decoration-color: #008080; font-weight: bold\">0</span>.        , <span style=\"color: #008080; text-decoration-color: #008080; font-weight: bold\">0</span>.        , <span style=\"color: #008080; text-decoration-color: #008080; font-weight: bold\">0</span>.        ,\n",
       "       <span style=\"color: #008080; text-decoration-color: #008080; font-weight: bold\">0</span>.        , <span style=\"color: #008080; text-decoration-color: #008080; font-weight: bold\">0</span>.        , <span style=\"color: #008080; text-decoration-color: #008080; font-weight: bold\">0</span>.        , <span style=\"color: #008080; text-decoration-color: #008080; font-weight: bold\">0</span>.        , <span style=\"color: #008080; text-decoration-color: #008080; font-weight: bold\">0</span>.        ,\n",
       "       <span style=\"color: #008080; text-decoration-color: #008080; font-weight: bold\">0</span>.        , <span style=\"color: #008080; text-decoration-color: #008080; font-weight: bold\">0.00784314</span>, <span style=\"color: #008080; text-decoration-color: #008080; font-weight: bold\">0.00784314</span>, <span style=\"color: #008080; text-decoration-color: #008080; font-weight: bold\">0.00784314</span>, <span style=\"color: #008080; text-decoration-color: #008080; font-weight: bold\">0</span>.        ,\n",
       "       <span style=\"color: #008080; text-decoration-color: #008080; font-weight: bold\">0</span>.        , <span style=\"color: #008080; text-decoration-color: #008080; font-weight: bold\">0</span>.        , <span style=\"color: #008080; text-decoration-color: #008080; font-weight: bold\">0</span>.        , <span style=\"color: #008080; text-decoration-color: #008080; font-weight: bold\">0</span>.        , <span style=\"color: #008080; text-decoration-color: #008080; font-weight: bold\">0</span>.        ,\n",
       "       <span style=\"color: #008080; text-decoration-color: #008080; font-weight: bold\">0</span>.        , <span style=\"color: #008080; text-decoration-color: #008080; font-weight: bold\">0</span>.        , <span style=\"color: #008080; text-decoration-color: #008080; font-weight: bold\">0</span>.        , <span style=\"color: #008080; text-decoration-color: #008080; font-weight: bold\">0</span>.        , <span style=\"color: #008080; text-decoration-color: #008080; font-weight: bold\">0</span>.        ,\n",
       "       <span style=\"color: #008080; text-decoration-color: #008080; font-weight: bold\">0</span>.        , <span style=\"color: #008080; text-decoration-color: #008080; font-weight: bold\">0</span>.        , <span style=\"color: #008080; text-decoration-color: #008080; font-weight: bold\">0</span>.        , <span style=\"color: #008080; text-decoration-color: #008080; font-weight: bold\">0</span>.        , <span style=\"color: #008080; text-decoration-color: #008080; font-weight: bold\">0</span>.        ,\n",
       "       <span style=\"color: #008080; text-decoration-color: #008080; font-weight: bold\">0</span>.        , <span style=\"color: #008080; text-decoration-color: #008080; font-weight: bold\">0</span>.        , <span style=\"color: #008080; text-decoration-color: #008080; font-weight: bold\">0</span>.        , <span style=\"color: #008080; text-decoration-color: #008080; font-weight: bold\">0</span>.        , <span style=\"color: #008080; text-decoration-color: #008080; font-weight: bold\">0</span>.        ,\n",
       "       <span style=\"color: #008080; text-decoration-color: #008080; font-weight: bold\">0</span>.        , <span style=\"color: #008080; text-decoration-color: #008080; font-weight: bold\">0</span>.        , <span style=\"color: #008080; text-decoration-color: #008080; font-weight: bold\">0</span>.        , <span style=\"color: #008080; text-decoration-color: #008080; font-weight: bold\">0.40784314</span>, <span style=\"color: #008080; text-decoration-color: #008080; font-weight: bold\">0</span>.        ,\n",
       "       <span style=\"color: #008080; text-decoration-color: #008080; font-weight: bold\">0</span>.        , <span style=\"color: #008080; text-decoration-color: #008080; font-weight: bold\">0.46666667</span>, <span style=\"color: #008080; text-decoration-color: #008080; font-weight: bold\">0</span>.        , <span style=\"color: #008080; text-decoration-color: #008080; font-weight: bold\">0</span>.        , <span style=\"color: #008080; text-decoration-color: #008080; font-weight: bold\">0.46666667</span>,\n",
       "       <span style=\"color: #008080; text-decoration-color: #008080; font-weight: bold\">0</span>.        , <span style=\"color: #008080; text-decoration-color: #008080; font-weight: bold\">0</span>.        , <span style=\"color: #008080; text-decoration-color: #008080; font-weight: bold\">0.4627451</span> , <span style=\"color: #008080; text-decoration-color: #008080; font-weight: bold\">0</span>.        , <span style=\"color: #008080; text-decoration-color: #008080; font-weight: bold\">0</span>.        ,\n",
       "       <span style=\"color: #008080; text-decoration-color: #008080; font-weight: bold\">0.4509804</span> , <span style=\"color: #008080; text-decoration-color: #008080; font-weight: bold\">0</span>.        , <span style=\"color: #008080; text-decoration-color: #008080; font-weight: bold\">0</span>.        , <span style=\"color: #008080; text-decoration-color: #008080; font-weight: bold\">0.4509804</span> , <span style=\"color: #008080; text-decoration-color: #008080; font-weight: bold\">0</span>.        ,\n",
       "       <span style=\"color: #008080; text-decoration-color: #008080; font-weight: bold\">0</span>.        , <span style=\"color: #008080; text-decoration-color: #008080; font-weight: bold\">0.45490196</span>, <span style=\"color: #008080; text-decoration-color: #008080; font-weight: bold\">0</span>.        , <span style=\"color: #008080; text-decoration-color: #008080; font-weight: bold\">0</span>.        , <span style=\"color: #008080; text-decoration-color: #008080; font-weight: bold\">0.45490196</span>,\n",
       "       <span style=\"color: #008080; text-decoration-color: #008080; font-weight: bold\">0</span>.        , <span style=\"color: #008080; text-decoration-color: #008080; font-weight: bold\">0</span>.        , <span style=\"color: #008080; text-decoration-color: #008080; font-weight: bold\">0.42745098</span>, <span style=\"color: #008080; text-decoration-color: #008080; font-weight: bold\">0</span>.        , <span style=\"color: #008080; text-decoration-color: #008080; font-weight: bold\">0</span>.        ,\n",
       "       <span style=\"color: #008080; text-decoration-color: #008080; font-weight: bold\">0.3647059</span> , <span style=\"color: #008080; text-decoration-color: #008080; font-weight: bold\">0</span>.        , <span style=\"color: #008080; text-decoration-color: #008080; font-weight: bold\">0</span>.        , <span style=\"color: #008080; text-decoration-color: #008080; font-weight: bold\">0.2</span>       , <span style=\"color: #008080; text-decoration-color: #008080; font-weight: bold\">0</span>.        ,\n",
       "       <span style=\"color: #008080; text-decoration-color: #008080; font-weight: bold\">0</span>.        , <span style=\"color: #008080; text-decoration-color: #008080; font-weight: bold\">0</span>.        , <span style=\"color: #008080; text-decoration-color: #008080; font-weight: bold\">0</span>.        , <span style=\"color: #008080; text-decoration-color: #008080; font-weight: bold\">0</span>.        , <span style=\"color: #008080; text-decoration-color: #008080; font-weight: bold\">0</span>.        ,\n",
       "       <span style=\"color: #008080; text-decoration-color: #008080; font-weight: bold\">0</span>.        , <span style=\"color: #008080; text-decoration-color: #008080; font-weight: bold\">0</span>.        , <span style=\"color: #008080; text-decoration-color: #008080; font-weight: bold\">0</span>.        , <span style=\"color: #008080; text-decoration-color: #008080; font-weight: bold\">0</span>.        , <span style=\"color: #008080; text-decoration-color: #008080; font-weight: bold\">0</span>.        ,\n",
       "       <span style=\"color: #008080; text-decoration-color: #008080; font-weight: bold\">0</span>.        , <span style=\"color: #008080; text-decoration-color: #008080; font-weight: bold\">0</span>.        , <span style=\"color: #008080; text-decoration-color: #008080; font-weight: bold\">0</span>.        , <span style=\"color: #008080; text-decoration-color: #008080; font-weight: bold\">0</span>.        , <span style=\"color: #008080; text-decoration-color: #008080; font-weight: bold\">0</span>.        ,\n",
       "       <span style=\"color: #008080; text-decoration-color: #008080; font-weight: bold\">0</span>.        , <span style=\"color: #008080; text-decoration-color: #008080; font-weight: bold\">0.00784314</span>, <span style=\"color: #008080; text-decoration-color: #008080; font-weight: bold\">0.00784314</span>, <span style=\"color: #008080; text-decoration-color: #008080; font-weight: bold\">0.00784314</span>, <span style=\"color: #008080; text-decoration-color: #008080; font-weight: bold\">0</span>.        ,\n",
       "       <span style=\"color: #008080; text-decoration-color: #008080; font-weight: bold\">0</span>.        , <span style=\"color: #008080; text-decoration-color: #008080; font-weight: bold\">0</span>.        , <span style=\"color: #008080; text-decoration-color: #008080; font-weight: bold\">0</span>.        , <span style=\"color: #008080; text-decoration-color: #008080; font-weight: bold\">0</span>.        , <span style=\"color: #008080; text-decoration-color: #008080; font-weight: bold\">0</span>.        ,\n",
       "       <span style=\"color: #008080; text-decoration-color: #008080; font-weight: bold\">0</span>.        , <span style=\"color: #008080; text-decoration-color: #008080; font-weight: bold\">0</span>.        , <span style=\"color: #008080; text-decoration-color: #008080; font-weight: bold\">0</span>.        , <span style=\"color: #008080; text-decoration-color: #008080; font-weight: bold\">0</span>.        , <span style=\"color: #008080; text-decoration-color: #008080; font-weight: bold\">0</span>.        ,\n",
       "       <span style=\"color: #008080; text-decoration-color: #008080; font-weight: bold\">0</span>.        , <span style=\"color: #008080; text-decoration-color: #008080; font-weight: bold\">0</span>.        , <span style=\"color: #008080; text-decoration-color: #008080; font-weight: bold\">0</span>.        , <span style=\"color: #008080; text-decoration-color: #008080; font-weight: bold\">0</span>.        , <span style=\"color: #008080; text-decoration-color: #008080; font-weight: bold\">0</span>.        ,\n",
       "       <span style=\"color: #008080; text-decoration-color: #008080; font-weight: bold\">0</span>.        , <span style=\"color: #008080; text-decoration-color: #008080; font-weight: bold\">0</span>.        , <span style=\"color: #008080; text-decoration-color: #008080; font-weight: bold\">0</span>.        , <span style=\"color: #008080; text-decoration-color: #008080; font-weight: bold\">0</span>.        , <span style=\"color: #008080; text-decoration-color: #008080; font-weight: bold\">0</span>.        ,\n",
       "       <span style=\"color: #008080; text-decoration-color: #008080; font-weight: bold\">0</span>.        , <span style=\"color: #008080; text-decoration-color: #008080; font-weight: bold\">0</span>.        , <span style=\"color: #008080; text-decoration-color: #008080; font-weight: bold\">0</span>.        , <span style=\"color: #008080; text-decoration-color: #008080; font-weight: bold\">0.40784314</span>, <span style=\"color: #008080; text-decoration-color: #008080; font-weight: bold\">0</span>.        ,\n",
       "       <span style=\"color: #008080; text-decoration-color: #008080; font-weight: bold\">0</span>.        , <span style=\"color: #008080; text-decoration-color: #008080; font-weight: bold\">0.46666667</span>, <span style=\"color: #008080; text-decoration-color: #008080; font-weight: bold\">0</span>.        , <span style=\"color: #008080; text-decoration-color: #008080; font-weight: bold\">0</span>.        , <span style=\"color: #008080; text-decoration-color: #008080; font-weight: bold\">0.46666667</span>,\n",
       "       <span style=\"color: #008080; text-decoration-color: #008080; font-weight: bold\">0</span>.        , <span style=\"color: #008080; text-decoration-color: #008080; font-weight: bold\">0</span>.        , <span style=\"color: #008080; text-decoration-color: #008080; font-weight: bold\">0.4627451</span> , <span style=\"color: #008080; text-decoration-color: #008080; font-weight: bold\">0</span>.        , <span style=\"color: #008080; text-decoration-color: #008080; font-weight: bold\">0</span>.        ,\n",
       "       <span style=\"color: #008080; text-decoration-color: #008080; font-weight: bold\">0.4509804</span> , <span style=\"color: #008080; text-decoration-color: #008080; font-weight: bold\">0</span>.        , <span style=\"color: #008080; text-decoration-color: #008080; font-weight: bold\">0</span>.        , <span style=\"color: #008080; text-decoration-color: #008080; font-weight: bold\">0.4509804</span> , <span style=\"color: #008080; text-decoration-color: #008080; font-weight: bold\">0</span>.        ,\n",
       "       <span style=\"color: #008080; text-decoration-color: #008080; font-weight: bold\">0</span>.        , <span style=\"color: #008080; text-decoration-color: #008080; font-weight: bold\">0.45490196</span>, <span style=\"color: #008080; text-decoration-color: #008080; font-weight: bold\">0</span>.        , <span style=\"color: #008080; text-decoration-color: #008080; font-weight: bold\">0</span>.        , <span style=\"color: #008080; text-decoration-color: #008080; font-weight: bold\">0.45490196</span>,\n",
       "       <span style=\"color: #008080; text-decoration-color: #008080; font-weight: bold\">0</span>.        , <span style=\"color: #008080; text-decoration-color: #008080; font-weight: bold\">0</span>.        , <span style=\"color: #008080; text-decoration-color: #008080; font-weight: bold\">0.42745098</span>, <span style=\"color: #008080; text-decoration-color: #008080; font-weight: bold\">0</span>.        , <span style=\"color: #008080; text-decoration-color: #008080; font-weight: bold\">0</span>.        ,\n",
       "       <span style=\"color: #008080; text-decoration-color: #008080; font-weight: bold\">0.3647059</span> , <span style=\"color: #008080; text-decoration-color: #008080; font-weight: bold\">0</span>.        , <span style=\"color: #008080; text-decoration-color: #008080; font-weight: bold\">0</span>.        , <span style=\"color: #008080; text-decoration-color: #008080; font-weight: bold\">0.2</span>       , <span style=\"color: #008080; text-decoration-color: #008080; font-weight: bold\">0</span>.        ,\n",
       "       <span style=\"color: #008080; text-decoration-color: #008080; font-weight: bold\">0</span>.        , <span style=\"color: #008080; text-decoration-color: #008080; font-weight: bold\">0</span>.        , <span style=\"color: #008080; text-decoration-color: #008080; font-weight: bold\">0</span>.        , <span style=\"color: #008080; text-decoration-color: #008080; font-weight: bold\">0</span>.        , <span style=\"color: #008080; text-decoration-color: #008080; font-weight: bold\">0</span>.        ,\n",
       "       <span style=\"color: #008080; text-decoration-color: #008080; font-weight: bold\">0</span>.        , <span style=\"color: #008080; text-decoration-color: #008080; font-weight: bold\">0</span>.        , <span style=\"color: #008080; text-decoration-color: #008080; font-weight: bold\">0</span>.        , <span style=\"color: #008080; text-decoration-color: #008080; font-weight: bold\">0</span>.        , <span style=\"color: #008080; text-decoration-color: #008080; font-weight: bold\">0</span>.        ,\n",
       "       <span style=\"color: #008080; text-decoration-color: #008080; font-weight: bold\">0</span>.        , <span style=\"color: #008080; text-decoration-color: #008080; font-weight: bold\">0</span>.        , <span style=\"color: #008080; text-decoration-color: #008080; font-weight: bold\">0</span>.        , <span style=\"color: #008080; text-decoration-color: #008080; font-weight: bold\">0</span>.        , <span style=\"color: #008080; text-decoration-color: #008080; font-weight: bold\">0</span>.        ,\n",
       "       <span style=\"color: #008080; text-decoration-color: #008080; font-weight: bold\">0</span>.        , <span style=\"color: #008080; text-decoration-color: #008080; font-weight: bold\">0.00784314</span>, <span style=\"color: #008080; text-decoration-color: #008080; font-weight: bold\">0.00784314</span>, <span style=\"color: #008080; text-decoration-color: #008080; font-weight: bold\">0.00784314</span>, <span style=\"color: #008080; text-decoration-color: #008080; font-weight: bold\">0</span>.        ,\n",
       "       <span style=\"color: #008080; text-decoration-color: #008080; font-weight: bold\">0</span>.        , <span style=\"color: #008080; text-decoration-color: #008080; font-weight: bold\">0</span>.        , <span style=\"color: #008080; text-decoration-color: #008080; font-weight: bold\">0</span>.        , <span style=\"color: #008080; text-decoration-color: #008080; font-weight: bold\">0</span>.        , <span style=\"color: #008080; text-decoration-color: #008080; font-weight: bold\">0</span>.        ,\n",
       "       <span style=\"color: #008080; text-decoration-color: #008080; font-weight: bold\">0</span>.        , <span style=\"color: #008080; text-decoration-color: #008080; font-weight: bold\">0</span>.        , <span style=\"color: #008080; text-decoration-color: #008080; font-weight: bold\">0</span>.        , <span style=\"color: #008080; text-decoration-color: #008080; font-weight: bold\">0</span>.        , <span style=\"color: #008080; text-decoration-color: #008080; font-weight: bold\">0</span>.        ,\n",
       "       <span style=\"color: #008080; text-decoration-color: #008080; font-weight: bold\">0</span>.        , <span style=\"color: #008080; text-decoration-color: #008080; font-weight: bold\">0</span>.        , <span style=\"color: #008080; text-decoration-color: #008080; font-weight: bold\">0</span>.        , <span style=\"color: #008080; text-decoration-color: #008080; font-weight: bold\">0</span>.        , <span style=\"color: #008080; text-decoration-color: #008080; font-weight: bold\">0</span>.        ,\n",
       "       <span style=\"color: #008080; text-decoration-color: #008080; font-weight: bold\">0</span>.        , <span style=\"color: #008080; text-decoration-color: #008080; font-weight: bold\">0</span>.        , <span style=\"color: #008080; text-decoration-color: #008080; font-weight: bold\">0</span>.        , <span style=\"color: #008080; text-decoration-color: #008080; font-weight: bold\">0</span>.        , <span style=\"color: #008080; text-decoration-color: #008080; font-weight: bold\">0</span>.        ,\n",
       "       <span style=\"color: #008080; text-decoration-color: #008080; font-weight: bold\">0</span>.        , <span style=\"color: #008080; text-decoration-color: #008080; font-weight: bold\">0</span>.        , <span style=\"color: #008080; text-decoration-color: #008080; font-weight: bold\">0</span>.        , <span style=\"color: #008080; text-decoration-color: #008080; font-weight: bold\">0.40784314</span>, <span style=\"color: #008080; text-decoration-color: #008080; font-weight: bold\">0</span>.        ,\n",
       "       <span style=\"color: #008080; text-decoration-color: #008080; font-weight: bold\">0</span>.        , <span style=\"color: #008080; text-decoration-color: #008080; font-weight: bold\">0.46666667</span>, <span style=\"color: #008080; text-decoration-color: #008080; font-weight: bold\">0</span>.        , <span style=\"color: #008080; text-decoration-color: #008080; font-weight: bold\">0</span>.        , <span style=\"color: #008080; text-decoration-color: #008080; font-weight: bold\">0.46666667</span>,\n",
       "       <span style=\"color: #008080; text-decoration-color: #008080; font-weight: bold\">0</span>.        , <span style=\"color: #008080; text-decoration-color: #008080; font-weight: bold\">0</span>.        , <span style=\"color: #008080; text-decoration-color: #008080; font-weight: bold\">0.4627451</span> , <span style=\"color: #008080; text-decoration-color: #008080; font-weight: bold\">0</span>.        , <span style=\"color: #008080; text-decoration-color: #008080; font-weight: bold\">0</span>.        <span style=\"font-weight: bold\">]</span>,\n",
       "      <span style=\"color: #808000; text-decoration-color: #808000\">dtype</span>=<span style=\"color: #800080; text-decoration-color: #800080\">float32</span><span style=\"font-weight: bold\">)</span>,\n",
       "    <span style=\"color: #008080; text-decoration-color: #008080; font-weight: bold\">-1.0</span>,\n",
       "    <span style=\"color: #ff0000; text-decoration-color: #ff0000; font-style: italic\">False</span>,\n",
       "    <span style=\"color: #00ff00; text-decoration-color: #00ff00; font-style: italic\">True</span>,\n",
       "    <span style=\"font-weight: bold\">{}</span>\n",
       "<span style=\"font-weight: bold\">)</span>\n",
       "</pre>\n"
      ],
      "text/plain": [
       "\n",
       "\u001b[1m(\u001b[0m\n",
       "    \u001b[1;35marray\u001b[0m\u001b[1m(\u001b[0m\u001b[1m[\u001b[0m\u001b[1;36m0.4509804\u001b[0m , \u001b[1;36m0\u001b[0m.        , \u001b[1;36m0\u001b[0m.        , \u001b[1;36m0.4509804\u001b[0m , \u001b[1;36m0\u001b[0m.        ,\n",
       "       \u001b[1;36m0\u001b[0m.        , \u001b[1;36m0.45490196\u001b[0m, \u001b[1;36m0\u001b[0m.        , \u001b[1;36m0\u001b[0m.        , \u001b[1;36m0.45490196\u001b[0m,\n",
       "       \u001b[1;36m0\u001b[0m.        , \u001b[1;36m0\u001b[0m.        , \u001b[1;36m0.42745098\u001b[0m, \u001b[1;36m0\u001b[0m.        , \u001b[1;36m0\u001b[0m.        ,\n",
       "       \u001b[1;36m0.3647059\u001b[0m , \u001b[1;36m0\u001b[0m.        , \u001b[1;36m0\u001b[0m.        , \u001b[1;36m0.2\u001b[0m       , \u001b[1;36m0\u001b[0m.        ,\n",
       "       \u001b[1;36m0\u001b[0m.        , \u001b[1;36m0\u001b[0m.        , \u001b[1;36m0\u001b[0m.        , \u001b[1;36m0\u001b[0m.        , \u001b[1;36m0\u001b[0m.        ,\n",
       "       \u001b[1;36m0\u001b[0m.        , \u001b[1;36m0\u001b[0m.        , \u001b[1;36m0\u001b[0m.        , \u001b[1;36m0\u001b[0m.        , \u001b[1;36m0\u001b[0m.        ,\n",
       "       \u001b[1;36m0\u001b[0m.        , \u001b[1;36m0\u001b[0m.        , \u001b[1;36m0\u001b[0m.        , \u001b[1;36m0\u001b[0m.        , \u001b[1;36m0\u001b[0m.        ,\n",
       "       \u001b[1;36m0\u001b[0m.        , \u001b[1;36m0.00784314\u001b[0m, \u001b[1;36m0.00784314\u001b[0m, \u001b[1;36m0.00784314\u001b[0m, \u001b[1;36m0\u001b[0m.        ,\n",
       "       \u001b[1;36m0\u001b[0m.        , \u001b[1;36m0\u001b[0m.        , \u001b[1;36m0\u001b[0m.        , \u001b[1;36m0\u001b[0m.        , \u001b[1;36m0\u001b[0m.        ,\n",
       "       \u001b[1;36m0\u001b[0m.        , \u001b[1;36m0\u001b[0m.        , \u001b[1;36m0\u001b[0m.        , \u001b[1;36m0\u001b[0m.        , \u001b[1;36m0\u001b[0m.        ,\n",
       "       \u001b[1;36m0\u001b[0m.        , \u001b[1;36m0\u001b[0m.        , \u001b[1;36m0\u001b[0m.        , \u001b[1;36m0\u001b[0m.        , \u001b[1;36m0\u001b[0m.        ,\n",
       "       \u001b[1;36m0\u001b[0m.        , \u001b[1;36m0\u001b[0m.        , \u001b[1;36m0\u001b[0m.        , \u001b[1;36m0\u001b[0m.        , \u001b[1;36m0\u001b[0m.        ,\n",
       "       \u001b[1;36m0\u001b[0m.        , \u001b[1;36m0\u001b[0m.        , \u001b[1;36m0\u001b[0m.        , \u001b[1;36m0.40784314\u001b[0m, \u001b[1;36m0\u001b[0m.        ,\n",
       "       \u001b[1;36m0\u001b[0m.        , \u001b[1;36m0.46666667\u001b[0m, \u001b[1;36m0\u001b[0m.        , \u001b[1;36m0\u001b[0m.        , \u001b[1;36m0.46666667\u001b[0m,\n",
       "       \u001b[1;36m0\u001b[0m.        , \u001b[1;36m0\u001b[0m.        , \u001b[1;36m0.4627451\u001b[0m , \u001b[1;36m0\u001b[0m.        , \u001b[1;36m0\u001b[0m.        ,\n",
       "       \u001b[1;36m0.4509804\u001b[0m , \u001b[1;36m0\u001b[0m.        , \u001b[1;36m0\u001b[0m.        , \u001b[1;36m0.4509804\u001b[0m , \u001b[1;36m0\u001b[0m.        ,\n",
       "       \u001b[1;36m0\u001b[0m.        , \u001b[1;36m0.45490196\u001b[0m, \u001b[1;36m0\u001b[0m.        , \u001b[1;36m0\u001b[0m.        , \u001b[1;36m0.45490196\u001b[0m,\n",
       "       \u001b[1;36m0\u001b[0m.        , \u001b[1;36m0\u001b[0m.        , \u001b[1;36m0.42745098\u001b[0m, \u001b[1;36m0\u001b[0m.        , \u001b[1;36m0\u001b[0m.        ,\n",
       "       \u001b[1;36m0.3647059\u001b[0m , \u001b[1;36m0\u001b[0m.        , \u001b[1;36m0\u001b[0m.        , \u001b[1;36m0.2\u001b[0m       , \u001b[1;36m0\u001b[0m.        ,\n",
       "       \u001b[1;36m0\u001b[0m.        , \u001b[1;36m0\u001b[0m.        , \u001b[1;36m0\u001b[0m.        , \u001b[1;36m0\u001b[0m.        , \u001b[1;36m0\u001b[0m.        ,\n",
       "       \u001b[1;36m0\u001b[0m.        , \u001b[1;36m0\u001b[0m.        , \u001b[1;36m0\u001b[0m.        , \u001b[1;36m0\u001b[0m.        , \u001b[1;36m0\u001b[0m.        ,\n",
       "       \u001b[1;36m0\u001b[0m.        , \u001b[1;36m0\u001b[0m.        , \u001b[1;36m0\u001b[0m.        , \u001b[1;36m0\u001b[0m.        , \u001b[1;36m0\u001b[0m.        ,\n",
       "       \u001b[1;36m0\u001b[0m.        , \u001b[1;36m0.00784314\u001b[0m, \u001b[1;36m0.00784314\u001b[0m, \u001b[1;36m0.00784314\u001b[0m, \u001b[1;36m0\u001b[0m.        ,\n",
       "       \u001b[1;36m0\u001b[0m.        , \u001b[1;36m0\u001b[0m.        , \u001b[1;36m0\u001b[0m.        , \u001b[1;36m0\u001b[0m.        , \u001b[1;36m0\u001b[0m.        ,\n",
       "       \u001b[1;36m0\u001b[0m.        , \u001b[1;36m0\u001b[0m.        , \u001b[1;36m0\u001b[0m.        , \u001b[1;36m0\u001b[0m.        , \u001b[1;36m0\u001b[0m.        ,\n",
       "       \u001b[1;36m0\u001b[0m.        , \u001b[1;36m0\u001b[0m.        , \u001b[1;36m0\u001b[0m.        , \u001b[1;36m0\u001b[0m.        , \u001b[1;36m0\u001b[0m.        ,\n",
       "       \u001b[1;36m0\u001b[0m.        , \u001b[1;36m0\u001b[0m.        , \u001b[1;36m0\u001b[0m.        , \u001b[1;36m0\u001b[0m.        , \u001b[1;36m0\u001b[0m.        ,\n",
       "       \u001b[1;36m0\u001b[0m.        , \u001b[1;36m0\u001b[0m.        , \u001b[1;36m0\u001b[0m.        , \u001b[1;36m0.40784314\u001b[0m, \u001b[1;36m0\u001b[0m.        ,\n",
       "       \u001b[1;36m0\u001b[0m.        , \u001b[1;36m0.46666667\u001b[0m, \u001b[1;36m0\u001b[0m.        , \u001b[1;36m0\u001b[0m.        , \u001b[1;36m0.46666667\u001b[0m,\n",
       "       \u001b[1;36m0\u001b[0m.        , \u001b[1;36m0\u001b[0m.        , \u001b[1;36m0.4627451\u001b[0m , \u001b[1;36m0\u001b[0m.        , \u001b[1;36m0\u001b[0m.        ,\n",
       "       \u001b[1;36m0.4509804\u001b[0m , \u001b[1;36m0\u001b[0m.        , \u001b[1;36m0\u001b[0m.        , \u001b[1;36m0.4509804\u001b[0m , \u001b[1;36m0\u001b[0m.        ,\n",
       "       \u001b[1;36m0\u001b[0m.        , \u001b[1;36m0.45490196\u001b[0m, \u001b[1;36m0\u001b[0m.        , \u001b[1;36m0\u001b[0m.        , \u001b[1;36m0.45490196\u001b[0m,\n",
       "       \u001b[1;36m0\u001b[0m.        , \u001b[1;36m0\u001b[0m.        , \u001b[1;36m0.42745098\u001b[0m, \u001b[1;36m0\u001b[0m.        , \u001b[1;36m0\u001b[0m.        ,\n",
       "       \u001b[1;36m0.3647059\u001b[0m , \u001b[1;36m0\u001b[0m.        , \u001b[1;36m0\u001b[0m.        , \u001b[1;36m0.2\u001b[0m       , \u001b[1;36m0\u001b[0m.        ,\n",
       "       \u001b[1;36m0\u001b[0m.        , \u001b[1;36m0\u001b[0m.        , \u001b[1;36m0\u001b[0m.        , \u001b[1;36m0\u001b[0m.        , \u001b[1;36m0\u001b[0m.        ,\n",
       "       \u001b[1;36m0\u001b[0m.        , \u001b[1;36m0\u001b[0m.        , \u001b[1;36m0\u001b[0m.        , \u001b[1;36m0\u001b[0m.        , \u001b[1;36m0\u001b[0m.        ,\n",
       "       \u001b[1;36m0\u001b[0m.        , \u001b[1;36m0\u001b[0m.        , \u001b[1;36m0\u001b[0m.        , \u001b[1;36m0\u001b[0m.        , \u001b[1;36m0\u001b[0m.        ,\n",
       "       \u001b[1;36m0\u001b[0m.        , \u001b[1;36m0.00784314\u001b[0m, \u001b[1;36m0.00784314\u001b[0m, \u001b[1;36m0.00784314\u001b[0m, \u001b[1;36m0\u001b[0m.        ,\n",
       "       \u001b[1;36m0\u001b[0m.        , \u001b[1;36m0\u001b[0m.        , \u001b[1;36m0\u001b[0m.        , \u001b[1;36m0\u001b[0m.        , \u001b[1;36m0\u001b[0m.        ,\n",
       "       \u001b[1;36m0\u001b[0m.        , \u001b[1;36m0\u001b[0m.        , \u001b[1;36m0\u001b[0m.        , \u001b[1;36m0\u001b[0m.        , \u001b[1;36m0\u001b[0m.        ,\n",
       "       \u001b[1;36m0\u001b[0m.        , \u001b[1;36m0\u001b[0m.        , \u001b[1;36m0\u001b[0m.        , \u001b[1;36m0\u001b[0m.        , \u001b[1;36m0\u001b[0m.        ,\n",
       "       \u001b[1;36m0\u001b[0m.        , \u001b[1;36m0\u001b[0m.        , \u001b[1;36m0\u001b[0m.        , \u001b[1;36m0\u001b[0m.        , \u001b[1;36m0\u001b[0m.        ,\n",
       "       \u001b[1;36m0\u001b[0m.        , \u001b[1;36m0\u001b[0m.        , \u001b[1;36m0\u001b[0m.        , \u001b[1;36m0.40784314\u001b[0m, \u001b[1;36m0\u001b[0m.        ,\n",
       "       \u001b[1;36m0\u001b[0m.        , \u001b[1;36m0.46666667\u001b[0m, \u001b[1;36m0\u001b[0m.        , \u001b[1;36m0\u001b[0m.        , \u001b[1;36m0.46666667\u001b[0m,\n",
       "       \u001b[1;36m0\u001b[0m.        , \u001b[1;36m0\u001b[0m.        , \u001b[1;36m0.4627451\u001b[0m , \u001b[1;36m0\u001b[0m.        , \u001b[1;36m0\u001b[0m.        \u001b[1m]\u001b[0m,\n",
       "      \u001b[33mdtype\u001b[0m=\u001b[35mfloat32\u001b[0m\u001b[1m)\u001b[0m,\n",
       "    \u001b[1;36m-1.0\u001b[0m,\n",
       "    \u001b[3;91mFalse\u001b[0m,\n",
       "    \u001b[3;92mTrue\u001b[0m,\n",
       "    \u001b[1m{\u001b[0m\u001b[1m}\u001b[0m\n",
       "\u001b[1m)\u001b[0m\n"
      ]
     },
     "metadata": {},
     "output_type": "display_data"
    }
   ],
   "source": [
    "import time\n",
    "\n",
    "observation, _ = lf.reset()\n",
    "\n",
    "for _ in range(10):\n",
    "    observation, reward, truncated, terminated, info = lf.step(np.array([1, 0]))\n",
    "    print(f\"truncated: {truncated}, terminated: {terminated}\")\n",
    "    if np.logical_or(truncated, terminated):\n",
    "        break\n",
    "    \n",
    "    time.sleep(0.2) \n",
    "\n",
    "lf.step(np.array([0, 0]))"
   ]
  },
  {
   "cell_type": "markdown",
   "metadata": {},
   "source": [
    "# Robot Pursuit"
   ]
  },
  {
   "cell_type": "code",
   "execution_count": 2,
   "metadata": {},
   "outputs": [],
   "source": [
    "system = ThreeWheelPushingObject()\n",
    "sim_rob = Robot3PiRobotPursuit(system, \n",
    "                                state_init=np.zeros([2*50*3]),\n",
    "                                time_final=30)"
   ]
  },
  {
   "cell_type": "code",
   "execution_count": 3,
   "metadata": {},
   "outputs": [
    {
     "name": "stdout",
     "output_type": "stream",
     "text": [
      "simulator: <src.simulator_gz.Robot3PiRobotPursuit object at 0x7f76addeb700>\n",
      "Subscribed to Camera!\n",
      "Subscribed to dynamic_pose/info! for catching robot\n",
      "Subscribed to dynamic_pose/info! for running robot\n",
      "Waiting for simulator... 0.32 sec\n",
      "Scene received!\n",
      "Model in scene arena_ground_plane\n",
      "Model in scene ground_plane\n",
      "Model in scene red_runner_robot\n",
      "Model in scene green_runner_robot\n",
      "Model in scene blue_runner_robot\n",
      "Model in scene yellow_runner_robot\n",
      "Model in scene catcher_robot\n",
      "\n",
      "Observation and position received!\n"
     ]
    }
   ],
   "source": [
    "from src.objective import RobotPursuitRunningObjective\n",
    "\n",
    "\n",
    "objective_function = RobotPursuitRunningObjective()\n",
    "rp = RobotPursuit(sim_rob, running_objective=objective_function)"
   ]
  },
  {
   "cell_type": "code",
   "execution_count": 8,
   "metadata": {},
   "outputs": [
    {
     "name": "stdout",
     "output_type": "stream",
     "text": [
      "receive self.task_id: yellow_cylinder\n",
      "Stopping green_runner_robot!\n",
      "parked runner green_runner_robot at [-30, -2, -0.25]\n",
      "Stopping yellow_runner_robot!\n"
     ]
    },
    {
     "data": {
      "text/html": [
       "<pre style=\"white-space:pre;overflow-x:auto;line-height:normal;font-family:Menlo,'DejaVu Sans Mono',consolas,'Courier New',monospace\"><span style=\"font-weight: bold\">[</span><span style=\"color: #008000; text-decoration-color: #008000\">'red_cube'</span>, <span style=\"color: #008000; text-decoration-color: #008000\">'green_capsule'</span>, <span style=\"color: #008000; text-decoration-color: #008000\">'blue_sphere'</span>, <span style=\"color: #008000; text-decoration-color: #008000\">'yellow_cylinder'</span><span style=\"font-weight: bold\">]</span>\n",
       "</pre>\n"
      ],
      "text/plain": [
       "\u001b[1m[\u001b[0m\u001b[32m'red_cube'\u001b[0m, \u001b[32m'green_capsule'\u001b[0m, \u001b[32m'blue_sphere'\u001b[0m, \u001b[32m'yellow_cylinder'\u001b[0m\u001b[1m]\u001b[0m\n"
      ]
     },
     "metadata": {},
     "output_type": "display_data"
    }
   ],
   "source": [
    "rp.switch_task(3)\n",
    "observation, _ = rp.reset()\n",
    "\n",
    "rp.task_list"
   ]
  },
  {
   "cell_type": "code",
   "execution_count": 9,
   "metadata": {},
   "outputs": [
    {
     "name": "stdout",
     "output_type": "stream",
     "text": [
      "Stopping yellow_runner_robot!\n",
      "[Objective Function] COND: Normal, REWARD: 0.5\n",
      "truncated: False, terminated: False\n",
      "[Objective Function] COND: Normal, REWARD: 0.3285714285714285\n",
      "Counter overflow with t0: 9.901 and last moment: 10.0\n",
      "truncated: False, terminated: False\n",
      "[Objective Function] COND: Normal, REWARD: 0.30000000000000004\n",
      "Counter overflow with t0: 10.0 and last moment: 10.132\n",
      "truncated: False, terminated: False\n",
      "[Objective Function] COND: Normal, REWARD: 0.21538461538461529\n",
      "Counter overflow with t0: 10.132 and last moment: 10.264\n",
      "truncated: False, terminated: False\n",
      "[Objective Function] COND: Normal, REWARD: 0.19999999999999996\n",
      "truncated: False, terminated: False\n",
      "[Objective Function] COND: Normal, REWARD: 0.15000000000000002\n",
      "Counter overflow with t0: 10.429 and last moment: 10.561\n",
      "truncated: False, terminated: False\n",
      "COND: LOST\n",
      "Counter overflow with t0: 10.561 and last moment: 10.693\n",
      "truncated: True, terminated: False\n",
      "COND: LOST\n",
      "Counter overflow with t0: 10.693 and last moment: 10.825\n"
     ]
    },
    {
     "data": {
      "text/html": [
       "<pre style=\"white-space:pre;overflow-x:auto;line-height:normal;font-family:Menlo,'DejaVu Sans Mono',consolas,'Courier New',monospace\">\n",
       "<span style=\"font-weight: bold\">(</span>\n",
       "    <span style=\"color: #800080; text-decoration-color: #800080; font-weight: bold\">array</span><span style=\"font-weight: bold\">([</span><span style=\"color: #008080; text-decoration-color: #008080; font-weight: bold\">0.85490197</span>, <span style=\"color: #008080; text-decoration-color: #008080; font-weight: bold\">0.85490197</span>, <span style=\"color: #008080; text-decoration-color: #008080; font-weight: bold\">0.85490197</span>, <span style=\"color: #808000; text-decoration-color: #808000\">...</span>, <span style=\"color: #008080; text-decoration-color: #008080; font-weight: bold\">0.2901961</span> , <span style=\"color: #008080; text-decoration-color: #008080; font-weight: bold\">0.2901961</span> ,\n",
       "       <span style=\"color: #008080; text-decoration-color: #008080; font-weight: bold\">0.2901961</span> <span style=\"font-weight: bold\">]</span>, <span style=\"color: #808000; text-decoration-color: #808000\">dtype</span>=<span style=\"color: #800080; text-decoration-color: #800080\">float32</span><span style=\"font-weight: bold\">)</span>,\n",
       "    <span style=\"color: #008080; text-decoration-color: #008080; font-weight: bold\">-1.0</span>,\n",
       "    <span style=\"color: #00ff00; text-decoration-color: #00ff00; font-style: italic\">True</span>,\n",
       "    <span style=\"color: #ff0000; text-decoration-color: #ff0000; font-style: italic\">False</span>,\n",
       "    <span style=\"font-weight: bold\">{}</span>\n",
       "<span style=\"font-weight: bold\">)</span>\n",
       "</pre>\n"
      ],
      "text/plain": [
       "\n",
       "\u001b[1m(\u001b[0m\n",
       "    \u001b[1;35marray\u001b[0m\u001b[1m(\u001b[0m\u001b[1m[\u001b[0m\u001b[1;36m0.85490197\u001b[0m, \u001b[1;36m0.85490197\u001b[0m, \u001b[1;36m0.85490197\u001b[0m, \u001b[33m...\u001b[0m, \u001b[1;36m0.2901961\u001b[0m , \u001b[1;36m0.2901961\u001b[0m ,\n",
       "       \u001b[1;36m0.2901961\u001b[0m \u001b[1m]\u001b[0m, \u001b[33mdtype\u001b[0m=\u001b[35mfloat32\u001b[0m\u001b[1m)\u001b[0m,\n",
       "    \u001b[1;36m-1.0\u001b[0m,\n",
       "    \u001b[3;92mTrue\u001b[0m,\n",
       "    \u001b[3;91mFalse\u001b[0m,\n",
       "    \u001b[1m{\u001b[0m\u001b[1m}\u001b[0m\n",
       "\u001b[1m)\u001b[0m\n"
      ]
     },
     "metadata": {},
     "output_type": "display_data"
    }
   ],
   "source": [
    "import time\n",
    "\n",
    "observation, _ = rp.reset()\n",
    "\n",
    "for _ in range(100):\n",
    "    observation, reward, truncated, terminated, info = rp.step(np.array([1, 0]))\n",
    "    print(f\"truncated: {truncated}, terminated: {terminated}\")\n",
    "    if np.logical_or(truncated, terminated):\n",
    "        break\n",
    "    \n",
    "    time.sleep(0.2) \n",
    "\n",
    "rp.step(np.array([0, 0]))"
   ]
  }
 ],
 "metadata": {
  "kernelspec": {
   "display_name": "Python 3",
   "language": "python",
   "name": "python3"
  },
  "language_info": {
   "codemirror_mode": {
    "name": "ipython",
    "version": 3
   },
   "file_extension": ".py",
   "mimetype": "text/x-python",
   "name": "python",
   "nbconvert_exporter": "python",
   "pygments_lexer": "ipython3",
   "version": "3.10.12"
  }
 },
 "nbformat": 4,
 "nbformat_minor": 2
}
